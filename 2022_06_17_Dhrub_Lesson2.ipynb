{
  "nbformat": 4,
  "nbformat_minor": 0,
  "metadata": {
    "colab": {
      "name": "2022-06-17_Dhrub_Lesson2",
      "provenance": [],
      "collapsed_sections": [],
      "include_colab_link": true
    },
    "kernelspec": {
      "name": "python3",
      "display_name": "Python 3"
    }
  },
  "cells": [
    {
      "cell_type": "markdown",
      "metadata": {
        "id": "view-in-github",
        "colab_type": "text"
      },
      "source": [
        "<a href=\"https://colab.research.google.com/github/KINGOFBEAST366/GCSO/blob/main/2022_06_17_Dhrub_Lesson2.ipynb\" target=\"_parent\"><img src=\"https://colab.research.google.com/assets/colab-badge.svg\" alt=\"Open In Colab\"/></a>"
      ]
    },
    {
      "cell_type": "markdown",
      "metadata": {
        "id": "mFDyd3uB4WBx"
      },
      "source": [
        "# Lesson 2: Mind Reader Game - While Loop, Data-Type Conversion & Conditional Statements\n"
      ]
    },
    {
      "cell_type": "markdown",
      "metadata": {
        "id": "Ej1wIlH7HVvr"
      },
      "source": [
        "---"
      ]
    },
    {
      "cell_type": "markdown",
      "metadata": {
        "id": "tzfLo9exG6xu"
      },
      "source": [
        "\n",
        "<center><img src=\"https://curriculum.whitehatjr.com/APT+Asset/Final+C2+images/q+and+a_1.png\"/></center>\n",
        "<h3><font color=red><b>\n",
        "<img src=\"https://curriculum.whitehatjr.com/APT+Asset/Final+C2+images/question.jpg\"/>\n",
        "What will happen when you enter a wrong password in Gmail?  <a href=\"https://curriculum.whitehatjr.com/APT+Asset/APT+C1+storyboard+images/password1.PNG\"><img src=\"https://curriculum.whitehatjr.com/APT+Asset/Final+C2+images/download.jpg\"/> </a>\n",
        "\n",
        "<img src=\"https://curriculum.whitehatjr.com/APT+Asset/Final+C2+images/security-system-password-reuse-01.jpg\" height=500/>\n",
        "\n",
        "\n",
        "<br/>\n",
        "<img src=\"https://curriculum.whitehatjr.com/APT+Asset/Final+C2+images/question.jpg\"/>\n",
        "What if you keep on doing multiple login attempts using wrong password? <a href=\"https://curriculum.whitehatjr.com/APT+Asset/Final+C2+images/wrong3.gif\"><img src=\"https://curriculum.whitehatjr.com/APT+Asset/Final+C2+images/download.jpg\"/> </a>\n",
        "\n",
        "\n",
        "<img src=\"https://curriculum.whitehatjr.com/APT+Asset/Final+C2+images/person+trying+to+remember+password-01.jpg\" height=450/>\n",
        "\n",
        "<br/>\n",
        "\n",
        "<img src=\"https://curriculum.whitehatjr.com/APT+Asset/Final+C2+images/question.jpg\"/>\n",
        "How does Gmail continue printing \"Wrong password\" message unless the user enters the correct password? Any guesses? <a href=\"https://curriculum.whitehatjr.com/APT+Asset/APT+C4+images/loop_gif.gif\"><img src=\"https://curriculum.whitehatjr.com/APT+Asset/Final+C2+images/download.jpg\"/> \n",
        "</a>\n",
        "\n",
        "<br/>\n",
        "<center>\n",
        "<img src=\"https://curriculum.whitehatjr.com/APT+Asset/Final+C2+images/loop\"/></center>\n",
        "\n",
        "\n",
        "<br/>\n",
        "<img src=\"https://curriculum.whitehatjr.com/APT+Asset/Final+C2+images/question.jpg\"/>\n",
        "What if you keep on entering wrong password multiple times?\n",
        "   Let's say more than 15 to 20 times. <a href=\"https://curriculum.whitehatjr.com/APT+Asset/APT+C1+storyboard+images/failed attempts.PNG\"><img src=\"https://curriculum.whitehatjr.com/APT+Asset/Final+C2+images/download.jpg\"/></a>\n",
        "\n",
        "\n",
        "<center>\n",
        "<img src=\"https://curriculum.whitehatjr.com/APT+Asset/Final+C2+images/wrong-password.gif\" height=400/></center>\n",
        "\n",
        "<br/>\n",
        "<img src=\"https://curriculum.whitehatjr.com/APT+Asset/Final+C2+images/question.jpg\"/>\n",
        "How does Gmail blocks you from further entering any password once the maximum limit of incorrect login is reached? Any guesses? <a href=\"https://curriculum.whitehatjr.com/APT+Asset/Final+C2+images/pass2.png\"><img src=\"https://curriculum.whitehatjr.com/APT+Asset/Final+C2+images/download.jpg\"/> </a>\n",
        "\n",
        "<img src=\"https://curriculum.whitehatjr.com/APT+Asset/Final+C2+images/block-01.jpg\"/>"
      ]
    },
    {
      "cell_type": "markdown",
      "metadata": {
        "id": "y_rZyOrcW9ut"
      },
      "source": [
        "---"
      ]
    },
    {
      "cell_type": "markdown",
      "metadata": {
        "id": "Jqh0LwcvwTJA"
      },
      "source": [
        "\n",
        "\n",
        "In the previous class, we created a very simple algorithm for the \n",
        "Mind Reader game in which a computer predicts `0` or `1` randomly.\n",
        "\n",
        "Here's the algorithm we built in the last class.\n",
        "\n",
        "\n",
        "<center><img src=\"https://curriculum.whitehatjr.com/APT+Asset/APT+C1+storyboard+images/Capture.PNG\" /></center>\n",
        "\n",
        "\n",
        "In this class, we are going to add more functionalities to the algorithm. \n",
        "They are as follows:\n",
        "\n",
        "\n",
        "<center>\n",
        "<img src=\"https://curriculum.whitehatjr.com/APT+Asset/boy_new.png\" /></center>\n",
        "\n",
        "\n",
        "\n",
        "Let's get started."
      ]
    },
    {
      "cell_type": "markdown",
      "metadata": {
        "id": "7JH1aKsDiqST"
      },
      "source": [
        "---"
      ]
    },
    {
      "cell_type": "markdown",
      "metadata": {
        "id": "9p4gmk7cT5pP"
      },
      "source": [
        "###  Activity 1: Score Keeping \n",
        "\n",
        "\n",
        "\n",
        "<img src=\"https://curriculum.whitehatjr.com/APT+Asset/Final+C2+images/APT+C2-24.png\" />\n",
        "\n",
        "\n"
      ]
    },
    {
      "cell_type": "code",
      "metadata": {
        "id": "bW7I8cgDXmKe"
      },
      "source": [
        "# Student Action: Create 'player_score' and 'computer_score' variables and set their initial values to 0.\n",
        "player_score=0\n",
        "computer_score=0"
      ],
      "execution_count": 3,
      "outputs": []
    },
    {
      "cell_type": "markdown",
      "metadata": {
        "id": "jmRVp7Mlq9XM"
      },
      "source": [
        "We have initiated the required variables to keep the scores for both the players. Now, we need to update the scores as the game progresses."
      ]
    },
    {
      "cell_type": "markdown",
      "metadata": {
        "id": "veuvbzBprnP_"
      },
      "source": [
        "##### **Updating Scores**\n",
        "\n",
        "\n",
        "Let's first increase the scores by `1` for both the players. **In the process, we will learn how to increase the value stored in a variable.**\n",
        "\n",
        "<img src=\"https://curriculum.whitehatjr.com/APT+Asset/Final+C2+images/new_gif.gif\" />\n",
        "\n",
        "\n",
        "\n",
        "\n",
        "Let's write this logic using the code."
      ]
    },
    {
      "cell_type": "code",
      "metadata": {
        "id": "JLC7qnO_t8ZY",
        "colab": {
          "base_uri": "https://localhost:8080/"
        },
        "outputId": "d1d58cc6-0ead-4962-a502-432328c23b13"
      },
      "source": [
        "# Teacher Action: Increase the value stored in the 'player_score' variable.\n",
        "player_score=player_score+1\n",
        "player_score"
      ],
      "execution_count": 7,
      "outputs": [
        {
          "output_type": "execute_result",
          "data": {
            "text/plain": [
              "4"
            ]
          },
          "metadata": {},
          "execution_count": 7
        }
      ]
    },
    {
      "cell_type": "markdown",
      "metadata": {
        "id": "81m74oqNu-9A"
      },
      "source": [
        "Here, we have increased the value stored in the `player_score` variable by `1`.\n",
        "\n",
        "Now using the same approach, you increase the value stored in the `computer_score` variable."
      ]
    },
    {
      "cell_type": "code",
      "metadata": {
        "id": "JKNPhIFavOr_",
        "colab": {
          "base_uri": "https://localhost:8080/"
        },
        "outputId": "d6a8ee4c-1f40-4550-eb5d-37d88bec0370"
      },
      "source": [
        "# Student Action: Write a code to increase the value stored in the 'computer_score' variable.\n",
        "computer_score+=1\n",
        "computer_score"
      ],
      "execution_count": 9,
      "outputs": [
        {
          "output_type": "execute_result",
          "data": {
            "text/plain": [
              "2"
            ]
          },
          "metadata": {},
          "execution_count": 9
        }
      ]
    },
    {
      "cell_type": "markdown",
      "metadata": {
        "id": "OfNvRrSlfugO"
      },
      "source": [
        "---"
      ]
    },
    {
      "cell_type": "markdown",
      "metadata": {
        "id": "fA09LBPiIEJw"
      },
      "source": [
        "### Activity 2: The `while` Loop^^\n",
        "\n",
        "So far, we increased the values stored in the `player_score` and `computer_score` variables by just `1` unit. But we want to increase the values stored in these variables continuously until the value of these variables reach `50`. To do this, we will use the `while` loop.\n",
        "\n",
        "<h4><font color=red>\n",
        "<img src=\"https://curriculum.whitehatjr.com/APT+Asset/Final+C2+images/question.jpg\"/> Can you give some real world examples in which we repeat or loop some instructions unless a condition is met? \n",
        "<a href=\"https://curriculum.whitehatjr.com/APT+Asset/Final+C2+images/loop_ex_gif.gif\"><img src=\"https://curriculum.whitehatjr.com/APT+Asset/Final+C2+images/download.jpg\"/></a>\n",
        "</h4></font>\n",
        "\n",
        "<br/><br/>\n",
        "<img src=\"https://curriculum.whitehatjr.com/APT+Asset/Final+C2+images/whileloop_gif.gif\" /></td>\n",
        "\n",
        "**Syntax of `while` loop:**\n",
        "```python\n",
        "while condition:\n",
        "  #code\n",
        "```\n",
        "\n",
        "<img src=\"https://curriculum.whitehatjr.com/APT+Asset/APT+C4+images/apt+c4+-while+condition-01.png\" height=300/>\n",
        "\n",
        "\n",
        "Let's try to increase the value stored in the `player_score` variable using the `while` loop. To do this exercise, we need to follow 3 steps:\n",
        "\n",
        "- **Step 1:** Set the `player_score` value equal to `0` once again because we have already updated its value to `1` in the previous code.\n",
        "\n",
        "- **Step 2:** In the next line, write the `while player_score < 50` statement followed by the colon (`:`) sign, i.e., `while player_score < 50:`.\n",
        "\n",
        "- **Step 3:** Press the `enter` key. \n",
        "\n",
        "   In the new line, increase the value of the `player_score` variable by writing the following statement:\n",
        "\n",
        "   **`player_score = player_score + 1`**\n",
        "   \n",
        "   Make sure that there are two blank spaces between the code cell and the statement. This is to ensure that the instructions are being written inside the while loop, not outside it.\n",
        "\n",
        "- **Step 4:** Press the `enter` key.\n",
        "\n",
        " In the new line, remove the blank spaces between the code cell and the cursor. \n",
        " \n",
        " Then, print the value stored in the `player_score` variable."
      ]
    },
    {
      "cell_type": "code",
      "metadata": {
        "id": "Jdr2h0hNyyen",
        "colab": {
          "base_uri": "https://localhost:8080/"
        },
        "outputId": "9e9fb0ea-6373-45f4-a388-d82e33b1ff00"
      },
      "source": [
        "# Teacher Action: Increase the value stored in a variable using the 'while' loop.\n",
        "player_score=0\n",
        "while player_score<50:\n",
        "  player_score=player_score+1\n",
        "\n",
        "player_score"
      ],
      "execution_count": 11,
      "outputs": [
        {
          "output_type": "execute_result",
          "data": {
            "text/plain": [
              "50"
            ]
          },
          "metadata": {},
          "execution_count": 11
        }
      ]
    },
    {
      "cell_type": "markdown",
      "metadata": {
        "id": "73XIG-B8z7jj"
      },
      "source": [
        "As you can see, the `player_score` value has been increased to `50` using the `while` loop.\n",
        "\n",
        "**How does the `while` loop work here?**\n",
        "\n",
        "1. Here, we have set the value stored in the `player_score` variable equal to `0`.\n",
        "\n",
        "2. To initiate the `while` loop, we are providing a condition to the loop by saying that: \n",
        "\n",
        "*While the value of the `player_score` variable is less than 50, keep running the loop.* \n",
        " \n",
        " The moment the value of the `player_score` variable reaches 50, stop the loop.</i></font>\n",
        "\n",
        "3. The code in the next line, i.e., `player_score = player_score + 1` will increase the value of `player_score` by `1` unit until the value of `player_score` reaches `50`. \n",
        "\n",
        "4. Initially, the `player_score = 0`, so the `while` loop will check if the statement `player_score < 50` is `True` or `False`. At this point, the statement, `player_score < 50` is `True`, so the value of the `player_score` variable increases by `1`.\n",
        "\n",
        "5. In the next turn, the value of the `player_score` variable will be `1`. Similarly, the `while` loop next time again will check whether the condition is `True` or `False`. This process will continue until the value of the `player_score` variable reaches `50`. \n",
        "\n",
        "Now using the same process, you increase the value of the `computer_score` variable until it reaches `50`."
      ]
    },
    {
      "cell_type": "code",
      "metadata": {
        "id": "mAsQQVNY11ZR",
        "colab": {
          "base_uri": "https://localhost:8080/"
        },
        "outputId": "e7dc834d-8e88-4a5b-db1b-b78a62752ab2"
      },
      "source": [
        "# Student Action: Write a code to increase the value of the 'computer_score' variable until it reaches 50.\n",
        "computer_score=0\n",
        "while computer_score<50:\n",
        " computer_score=computer_score+1\n",
        "\n",
        "computer_score"
      ],
      "execution_count": 12,
      "outputs": [
        {
          "output_type": "execute_result",
          "data": {
            "text/plain": [
              "50"
            ]
          },
          "metadata": {},
          "execution_count": 12
        }
      ]
    },
    {
      "cell_type": "markdown",
      "metadata": {
        "id": "L63HNPrHjKX2"
      },
      "source": [
        "---"
      ]
    },
    {
      "cell_type": "markdown",
      "metadata": {
        "id": "bRVMkkJTCmvC"
      },
      "source": [
        "### Activity 3: Data-Type Conversion\n",
        "\n",
        "Recall the algorithm we created in the previous class. It stores the values entered by a player in the `player_input` variable and stores the values predicted by the computer in the `predict` variable.\n",
        "\n",
        "As the next step for our algorithm, we need to compare the `predict` value predicted by the computer with the `player_input` value.\n",
        "\n",
        "But before that, we need to convert the `player_input` value to an integer because the `input()` function takes input in the form of string. \n",
        "\n",
        "**We can compare two or more values only if they are of the same data-type.**\n",
        "\n",
        "You can check the data-type of a value using the `type()` function. Let's apply this function on the value stored in the `player_input` variable.\n"
      ]
    },
    {
      "cell_type": "code",
      "metadata": {
        "id": "X_RpajwREJeV",
        "colab": {
          "base_uri": "https://localhost:8080/"
        },
        "outputId": "fc338839-1640-4b82-a3c2-687db9313029"
      },
      "source": [
        "# Teacher Action: Verify that the 'input()' function takes any value as a string.\n",
        "player_input=input(\"enter either 0 or 1: \")\n",
        "type(player_input)"
      ],
      "execution_count": 13,
      "outputs": [
        {
          "name": "stdout",
          "output_type": "stream",
          "text": [
            "enter either 0 or 1: 1\n"
          ]
        },
        {
          "output_type": "execute_result",
          "data": {
            "text/plain": [
              "str"
            ]
          },
          "metadata": {},
          "execution_count": 13
        }
      ]
    },
    {
      "cell_type": "markdown",
      "metadata": {
        "id": "PddrUvKvEp9I"
      },
      "source": [
        "You can see that the `type()` function returned `str` as an output. The `str` keyword denotes that a value is a string.\n",
        "\n",
        "Similarly,\n",
        "\n",
        "- `int` denotes an integer value. \n",
        "\n",
        "- `float` denotes a floating-point number.\n",
        "\n",
        "- `bool` denotes a boolean value.\n",
        "\n",
        "The `str` output by the `type()` function confirms that the `input()` function indeed takes an input value in the form of a string data-type. \n",
        "\n",
        "But we want an integer input. So, we can use the `int()` function. It converts a value into an integer value.\n",
        "\n",
        "Let's convert the value stored in the `player_input` variable to an integer value and verify whether the conversion happened using the `type()` function."
      ]
    },
    {
      "cell_type": "code",
      "metadata": {
        "id": "V9TqpcgpE12z",
        "colab": {
          "base_uri": "https://localhost:8080/"
        },
        "outputId": "69cc0a6b-6742-41cc-b896-2631a595e32c"
      },
      "source": [
        "# Teacher Action: Convert the value stored in the 'player_input' variable into an integer.\n",
        "\n",
        "# Using 'type()' function, verify whether the conversion happened or not.\n",
        "player_input=int(player_input)\n",
        "type(player_input)"
      ],
      "execution_count": 15,
      "outputs": [
        {
          "output_type": "execute_result",
          "data": {
            "text/plain": [
              "bool"
            ]
          },
          "metadata": {},
          "execution_count": 15
        }
      ]
    },
    {
      "cell_type": "markdown",
      "metadata": {
        "id": "Kf1UsBWUMN_L"
      },
      "source": [
        "As you can see, we first converted the value stored in the `player_input` variable to an integer value using the `int()` function. Then re-assigned the converted value to the same variable. This operation is again the **right-to-left** operation.\n",
        "\n",
        "`player_input` \n",
        "$\\longleftarrow$ \n",
        "`int(player_input)`\n",
        "\n",
        "Similarly, to convert any data-type into \n",
        "\n",
        "- a string, use the `str()` function.\n",
        "\n",
        "- a floating-point number, use the `float()` function.\n",
        "\n",
        "- a boolean, use the `bool()` function."
      ]
    },
    {
      "cell_type": "markdown",
      "metadata": {
        "id": "d_BR_mwLEIhU"
      },
      "source": [
        "---"
      ]
    },
    {
      "cell_type": "markdown",
      "metadata": {
        "id": "WC-7ScvE6xa-"
      },
      "source": [
        "### Activity 4: The Conditional Statements^\n",
        "\n",
        "Now, we are ready to compare the `player_input` value with the `predict` value. \n",
        "\n",
        "To compare two or more values, we use conditional statements. \n",
        "\n",
        "\n",
        "\n",
        "\n",
        "They are of two types:\n",
        "\n",
        "1. `if-else` statement\n",
        "\n",
        "2. `if-elif-else` statement\n",
        "\n",
        "------------------------------------------------------------------------\n",
        "\n"
      ]
    },
    {
      "cell_type": "markdown",
      "metadata": {
        "id": "kaLRYt8Ckm1h"
      },
      "source": [
        "The `if-else` statement tells us that **if** a condition is **true**, it will execute a block of statements **else** it will execute another block of statements.\n",
        "\n",
        "\n",
        "\n",
        "\n",
        "<img src=\"https://curriculum.whitehatjr.com/APT+Asset/Final+C2+images/sad_kido.png\" height=400/>\n",
        "\n",
        "---\n",
        "\n",
        "Syntax of `if-else`:\n",
        "\n",
        "<img src=\"https://curriculum.whitehatjr.com/APT+Asset/Final+C2+images/if+else+syntax.PNG\"/>\n"
      ]
    },
    {
      "cell_type": "markdown",
      "metadata": {
        "id": "29vMZgpImqQa"
      },
      "source": [
        "Consider a fair die. \n",
        "\n",
        "<img src=\"https://curriculum.whitehatjr.com/APT+Asset/Final+C2+images/WHJ_dice_APT-C2.gif\"/>\n",
        "\n",
        "\n",
        "If you roll a die, then there are 6 possible outcomes. They are `1, 2, 3, 4, 5,` and `6`.\n",
        "\n",
        "Suppose you want to write a code which prints `\"Outcome is one.\"` if the die roll results in `1` and prints `\"Outcome is not one.\"` if the die roll results either in `2, 3, 4, 5,` or `6`. Then, you can use the `if-else` statement.\n",
        "\n",
        "The `if` statement covers one specific condition which you need to specify. In this case, the specific condition is `if die_roll is 1`.\n",
        "\n",
        "The `else` statement covers all the remaining conditions. You don't have to specify the remaining conditions in the `else` statement.\n",
        "\n",
        "**To compare two values, we use double equals to (`==`) sign.**"
      ]
    },
    {
      "cell_type": "code",
      "metadata": {
        "id": "azu2Efdk_oR3",
        "colab": {
          "base_uri": "https://localhost:8080/"
        },
        "outputId": "07a1e008-9d68-4f96-8384-836e88762e78"
      },
      "source": [
        "# Teacher Action: Use the 'if-else' conditional statement to compare two values in Python.\n",
        "\n",
        "# Generate a random number between 1 and 6. Store it in the 'die_roll' variable.\n",
        "\n",
        "# Print the value stored in the 'die_roll' variable.\n",
        "\n",
        "# Check if the value stored in the 'die_roll' variable is 1 or not.\n",
        "import random\n",
        "die_roll=random.randint(1,6)\n",
        "print(die_roll)\n",
        "if die_roll==1:\n",
        "  print(\"outcome is 1\")\n",
        "else:\n",
        "  print(\"outcome is not 1\")"
      ],
      "execution_count": 19,
      "outputs": [
        {
          "output_type": "stream",
          "name": "stdout",
          "text": [
            "4\n",
            "outcome is not 1\n"
          ]
        }
      ]
    },
    {
      "cell_type": "markdown",
      "metadata": {
        "id": "bevuFAJfAj6W"
      },
      "source": [
        "In the above code: \n",
        "\n",
        "- The `randint(1, 6)` function returns a number between `1` and `6`. It mimicks the die roll. We have imported the `random` module in the second line of the code to use the `randint()` function.\n",
        "\n",
        "- The `print()` function prints the value returned by the `randint()` function which is stored in the `die_roll` variable.\n",
        "\n",
        "- The `if` statement compares the value stored in the `die_roll` variable with `1`. If this condition is `True`, i.e., if the value stored in the `die_roll` variable is indeed `1`, then the `print()` function prints `\"Outcome is one.\"`. The code stops here. Python completely ignores the `else` statement.\n",
        "\n",
        "- However, if the condition specified in the `if` statement is `False`, i.e, the value stored in the `die_roll` variable is NOT equal to `1`, then Python ignores the `if` statement and moves to the `else` statement. It executes the code written under the `else` statement. Hence, in this case, Python prints `\"Outcome is not one.\"`.\n",
        "\n",
        "Run the above code several times to understand the `if-else` behaviour. \n",
        "\n",
        "---\n",
        "\n",
        "\n"
      ]
    },
    {
      "cell_type": "markdown",
      "metadata": {
        "id": "LDs2k2CyoaPx"
      },
      "source": [
        "\n",
        "\n",
        "<img src=\"https://curriculum.whitehatjr.com/APT+Asset/Final+C2+images/WHJ-Kid-study_new.png\" height=480/>\n",
        "\n",
        "Syntax of `if-elif-else`:\n",
        "\n",
        "```python\n",
        "if condition_1:\n",
        "  # body of if\n",
        "  statement(s)\n",
        "elif condition_2:\n",
        "  # body of elif_1\n",
        "  statement(s)\n",
        "elif condition_3:\n",
        "  # body of elif_2\n",
        "  statement(s)\n",
        "....\n",
        "else:\n",
        "  # body of else\n",
        "  statement(s)\n",
        "```\n",
        "\n"
      ]
    },
    {
      "cell_type": "markdown",
      "metadata": {
        "id": "pS97c4IpvvuQ"
      },
      "source": [
        "Suppose you want to write a code which prints `\"Outcome is a prime number.\"` if the die roll results either in `2, 3,` or `5` and prints `\"Outcome is not a prime number.\"` if the die roll results either in `1, 4,` or `6`. Then, you can write the `if-elif-else` statement."
      ]
    },
    {
      "cell_type": "code",
      "metadata": {
        "id": "xiXQtlVNDomg",
        "colab": {
          "base_uri": "https://localhost:8080/"
        },
        "outputId": "702d7895-f22f-44eb-fe42-cf61d3f3ad51"
      },
      "source": [
        "# Teacher Action: Use the 'if-elif-else' conditional statement to compare two values in Python.\n",
        "if die_roll==2:\n",
        "  print(\"outcome is a prime no.\")\n",
        "elif die_roll==3:\n",
        "  print(\"outcome is a prime no.\")\n",
        "elif die_roll==5:\n",
        "  print(\"outcome is a prime no.\")\n",
        "\n",
        "else:\n",
        "  print(\"outcome is not prime no.\")\n",
        "\n"
      ],
      "execution_count": 20,
      "outputs": [
        {
          "output_type": "stream",
          "name": "stdout",
          "text": [
            "outcome is not prime no.\n"
          ]
        }
      ]
    },
    {
      "cell_type": "markdown",
      "metadata": {
        "id": "wxhiDyOaEdgE"
      },
      "source": [
        "In the above code: \n",
        "\n",
        "- The `randint(1, 6)` function returns a number between `1` and `6`. It mimics the die roll. \n",
        "\n",
        "- The `print()` function prints the value returned by the `randint()` function which is stored in the `die_roll` variable.\n",
        "\n",
        "- The `if` statement compares the value stored in the `die_roll` variable with `2`. If this condition is `True`, i.e., if the value stored in the `die_roll` variable is indeed `2`, then the `print()` function prints `\"Outcome is a prime number.\"`. The code stops here. Python completely ignores the subsequent statements.\n",
        "\n",
        "- Else if the value stored in the `die_roll` variable is NOT `2`, then the `elif` statement compares the value stored in the `die_roll` variable with `3`. If this condition is `True`, i.e., if the value stored in the `die_roll` variable is indeed `3`, then the `print()` function prints `\"Outcome is a prime number.\"`. The code stops here. Python completely ignores the subsequent statements.\n",
        "\n",
        "\n",
        "- Else if the value stored in the `die_roll` variable is NOT `3`, then the `elif` statement compares the value stored in the `die_roll` variable with `5`. If this condition is `True`, i.e., if the value stored in the `die_roll` variable is indeed `5`, then the `print()` function prints `\"Outcome is a prime number.\"`. The code stops here. Python completely ignores the subsequent statements.\n",
        "\n",
        "- However, if the condition specified in the `elif` statement is `False`, i.e, the value stored in the `die_roll` variable is neither equal to `2, 3` nor equal to `5`, then Python ignores the `elif` statement and moves to the `else` statement. It executes the code written under the `else` statement. Hence, in this case, Python prints `\"Outcome is not a prime number.\"`.\n",
        "\n",
        "Run the above code several times to understand the `if-elif-else` behaviour. \n",
        "\n",
        "---\n",
        "\n"
      ]
    },
    {
      "cell_type": "markdown",
      "metadata": {
        "id": "WjmtJbi-w5t-"
      },
      "source": [
        "Now, using the `if-else` statement, compare the `player_input` value with the `predict` value in our algorithm. Then do the following:\n",
        "\n",
        "- If the `predict == player_input`, then increase the `computer_score` value by 1. Then, print the updated values of the `player_score` and `computer_score` variables. \n",
        "\n",
        "- Else, increase the `player_score` value by 1. Then, print the updated values of the `player_score` and `computer_score` variables."
      ]
    },
    {
      "cell_type": "code",
      "metadata": {
        "id": "HedSSdYRHSs5",
        "colab": {
          "base_uri": "https://localhost:8080/"
        },
        "outputId": "f82d01c4-3ecf-470e-a196-16366e22570d"
      },
      "source": [
        "# Student Action: Write a code to compare the 'predict' value with the 'player_input' value in our algorithm.\n",
        "# Note: Don't forget to convert the 'player_input' value to an integer.\n",
        "\n",
        "# Initialise the 'player_score' and 'computer_score' values.\n",
        "\n",
        "# Predict 0 or 1 randomly.\n",
        "\n",
        "# Take input from the player.\n",
        "\n",
        "# Convert the 'player_input' value to an integer.\n",
        "\n",
        "# Compare the 'predict' and 'player_input' values.\n",
        "player_score=0\n",
        "computer_score=0\n",
        "predict=random.randint(0,1)\n",
        "player_input=input(\"enter either 0 or 1: \")\n",
        "player_input=int(player_input)\n",
        "if predict==player_input:\n",
        "  computer_score+=1\n",
        "  print(\"computer_score:\",computer_score)\n",
        "  print(\"player_score:\",player_score)\n",
        "else:\n",
        "  player_score+=1\n",
        "  print(\"computer_score:\",computer_score)\n",
        "  print(\"player_score:\",player_score)\n"
      ],
      "execution_count": 22,
      "outputs": [
        {
          "output_type": "stream",
          "name": "stdout",
          "text": [
            "enter either 0 or 1: 0\n",
            "computer_score: 0\n",
            "player_score: 1\n"
          ]
        }
      ]
    },
    {
      "cell_type": "markdown",
      "metadata": {
        "id": "yMdYlRFAJJgg"
      },
      "source": [
        "In the above code:\n",
        "\n",
        "- If the `predict == player_input`, the `computer_score` value gets increased by 1. Then, Python prints the updated values stored in the `player_score` and `computer_score` variables. \n",
        "\n",
        "- Else, the `player_score` value gets increased by 1. Then, Python prints the updated values stored in the `player_score` and `computer_score` variables."
      ]
    },
    {
      "cell_type": "markdown",
      "metadata": {
        "id": "SxNUVmhP6vaN"
      },
      "source": [
        "---"
      ]
    },
    {
      "cell_type": "markdown",
      "metadata": {
        "id": "4X2Rl4FSXD6W"
      },
      "source": [
        "### Activity 5: Restrict Invalid Inputs And Run The Game^^^\n",
        "\n",
        "Now, we will restrict the player to enter any input other than `0` or `1`. \n",
        "\n",
        "We will learn this concept in the future classes but for now, let's use it.\n",
        "\n",
        "Also, we will use a `while` loop inside another `while` loop to run the game until either the player or the computer reaches a score of `50`. At every `player_input`, we will also print the scores for both the computer and the player.\n",
        "\n",
        "To test the working of the algorithm, let's run the game until either the player or the computer reaches a score of `10`. Otherwise, the game will get too long. Later you can replace `10` with `50`."
      ]
    },
    {
      "cell_type": "code",
      "metadata": {
        "id": "9Ted5QSbTskd",
        "colab": {
          "base_uri": "https://localhost:8080/"
        },
        "outputId": "a2f842ea-d3bf-4b00-c579-480fd6e7a251"
      },
      "source": [
        "# Student Action: Follow the instructions mentioned in the comments below. Accordingly, write the code.\n",
        "# Import the random module below.\n",
        "\n",
        "# Initialise the 'player_score' and 'computer_score' variables below.\n",
        "player_score=0\n",
        "computer_score=0\n",
        "valid_entries = ['0', '1']\n",
        "\n",
        "while True:\n",
        "  # Predict 0 or 1 ranomly below.\n",
        "  predict=random.randint(0,1)\n",
        "\n",
        "  # Take input from the player below.\n",
        "  player_input=input(\"enter either 0 or 1: \")\n",
        "\n",
        "  while player_input not in valid_entries:\n",
        "    print(\"Invalid Input!\")\n",
        "    player_input = input(\"Please enter either 0 or 1: \")\n",
        "   \n",
        "  # Convert the value stored in the 'player_input' variable into an integer value below.\n",
        "  player_input=int(player_input)\n",
        "  # Compare the 'predict' and the 'player_input' values below.\n",
        "  if predict==player_input:\n",
        "    computer_score+=1\n",
        "    print(\"computer_score:\",computer_score)\n",
        "    print(\"player_score:\",player_score)\n",
        "  else:\n",
        "    player_score+=1\n",
        "    print(\"computer_score:\",computer_score)\n",
        "    print(\"player_score:\",player_score)\n",
        "\n",
        "  # Compare the 'computer_score' and 'player_score' values with 10.\n",
        "  if computer_score == 5:\n",
        "    print(\"Bad Luck, Computer Wins!\")\n",
        "    break\n",
        "  elif player_score == 5:\n",
        "    print(\"Congrats, You Won!\")\n",
        "    break"
      ],
      "execution_count": 23,
      "outputs": [
        {
          "output_type": "stream",
          "name": "stdout",
          "text": [
            "enter either 0 or 1: 1\n",
            "computer_score: 0\n",
            "player_score: 1\n",
            "enter either 0 or 1: 0\n",
            "computer_score: 1\n",
            "player_score: 1\n",
            "enter either 0 or 1: 1\n",
            "computer_score: 1\n",
            "player_score: 2\n",
            "enter either 0 or 1: 6\n",
            "Invalid Input!\n",
            "Please enter either 0 or 1: 1\n",
            "computer_score: 2\n",
            "player_score: 2\n",
            "enter either 0 or 1: 1\n",
            "computer_score: 3\n",
            "player_score: 2\n",
            "enter either 0 or 1: 1\n",
            "computer_score: 4\n",
            "player_score: 2\n",
            "enter either 0 or 1: 0\n",
            "computer_score: 5\n",
            "player_score: 2\n",
            "Bad Luck, Computer Wins!\n"
          ]
        }
      ]
    },
    {
      "cell_type": "markdown",
      "metadata": {
        "id": "xbSSwE0lNZfe"
      },
      "source": [
        "There are some parts in the code above which we haven't covered in this class. We will learn them in the subsequent classes.\n",
        "\n",
        "In the next class, we will try to make our computer more **intelligent** so that it can make better predictions.\n",
        "\n",
        "Instead of randomly predicting 0 or 1, the computer will predict based on some pattern in player's input.\n",
        "\n",
        "\n",
        "<img src=\"https://s3-whjr-v2-prod-bucket.whjr.online/9038a21a-fdb7-43df-ab34-214305450368.jpg\" width=600 />\n"
      ]
    },
    {
      "cell_type": "markdown",
      "metadata": {
        "id": "U5hYb01ZTL7o"
      },
      "source": [
        "---"
      ]
    },
    {
      "cell_type": "markdown",
      "metadata": {
        "id": "ejP4TGzJi3Nb"
      },
      "source": [
        "### Wrap-Up Quiz\n",
        "\n",
        "\n",
        "<img src=\"https://curriculum.whitehatjr.com/APT+Asset/Final+C2+images/Q1.PNG\"/>\n",
        "\n",
        "\n",
        "\n",
        "<img src=\"https://curriculum.whitehatjr.com/APT+Asset/Final+C2+images/Q2.PNG\"/>\n",
        "\n",
        "\n",
        "<img src=\"https://curriculum.whitehatjr.com/APT+Asset/Final+C2+images/Q3.PNG\"/>\n",
        "\n",
        "\n",
        "\n",
        "\n"
      ]
    },
    {
      "cell_type": "markdown",
      "metadata": {
        "id": "bItPZa32i_Rm"
      },
      "source": [
        "---"
      ]
    },
    {
      "cell_type": "markdown",
      "metadata": {
        "id": "fqgQUA2OfkqX"
      },
      "source": [
        "### **Project**\n",
        "\n",
        "You can now attempt the **Applied Tech. Project 2 - While Loop, Data-Type Conversion & Conditional** on your own.\n",
        "\n",
        "\n",
        "**Applied Tech. Project 2 - While Loop, Data-Type Conversion & Conditional**: https://colab.research.google.com/drive/1b6kJOJ8XFpXrKbvBjjcXAHTGBQcT6TUn"
      ]
    },
    {
      "cell_type": "markdown",
      "metadata": {
        "id": "zEIMy_r3fj6_"
      },
      "source": [
        "---"
      ]
    }
  ]
}