{
  "nbformat": 4,
  "nbformat_minor": 0,
  "metadata": {
    "colab": {
      "name": "2022-07-17_Dhrub_Lesson3",
      "provenance": [],
      "collapsed_sections": [],
      "include_colab_link": true
    },
    "kernelspec": {
      "name": "python3",
      "display_name": "Python 3"
    }
  },
  "cells": [
    {
      "cell_type": "markdown",
      "metadata": {
        "id": "view-in-github",
        "colab_type": "text"
      },
      "source": [
        "<a href=\"https://colab.research.google.com/github/KINGOFBEAST366/GCSO/blob/main/2022_07_17_Dhrub_Lesson3.ipynb\" target=\"_parent\"><img src=\"https://colab.research.google.com/assets/colab-badge.svg\" alt=\"Open In Colab\"/></a>"
      ]
    },
    {
      "cell_type": "markdown",
      "metadata": {
        "id": "36AnVJBlmWqU"
      },
      "source": [
        "# Lesson 3: Mind Reader Game - Improving The Algorithm"
      ]
    },
    {
      "cell_type": "markdown",
      "metadata": {
        "id": "l95qGpdQtqhl"
      },
      "source": [
        "---"
      ]
    },
    {
      "cell_type": "markdown",
      "metadata": {
        "id": "JrcAsD9TBdyS"
      },
      "source": [
        "<center><img src=\"https://curriculum.whitehatjr.com/APT+Asset/Final+C2+images/q+and+a_1.png\"/></center>\n",
        "<h3><font color=red><b>\n",
        "<img src=\"https://curriculum.whitehatjr.com/APT+Asset/Final+C2+images/question.jpg\"/> Have you ever ordered anything from any e-commerce website ? Like Amazon, Flipkart or Myntra ?\n",
        "\n",
        "<img src=\"https://curriculum.whitehatjr.com/APT+Asset/APT+C3+images/shopping.jpg\" height=500/>\n",
        "\n",
        "\n",
        "<h3><font color=red><b>\n",
        "<img src=\"https://curriculum.whitehatjr.com/APT+Asset/Final+C2+images/question.jpg\"/> Have you ever noticed a recommendation section like this when you shop for more than twice from these sites?\n",
        "\n",
        "<img src=\"https://curriculum.whitehatjr.com/APT+Asset/APT+C3+images/recommend3.PNG\" /> <img src=\"https://curriculum.whitehatjr.com/APT+Asset/APT+C3+images/recommend4.jpg\"/>\n",
        "\n",
        "*Image credits: https://www.amazon.com/*\n",
        "\n",
        "<h3><font color=red><b>\n",
        "<img src=\"https://curriculum.whitehatjr.com/APT+Asset/Final+C2+images/question.jpg\"/>  How these e commerce websites are able to give recommendations for products you might like? <a href=\"https://curriculum.whitehatjr.com/APT+Asset/APT+C3+images/REC3.png\"><img src=\"https://curriculum.whitehatjr.com/APT+Asset/Final+C2+images/download.jpg\"/> </a>\n",
        "\n",
        "<img src=\"https://curriculum.whitehatjr.com/APT+Asset/APT+C3+images/shopping-02.jpg\" height=400/>\n",
        "\n",
        "\n",
        "\n",
        " ----------------\n"
      ]
    },
    {
      "cell_type": "markdown",
      "metadata": {
        "id": "QLYAW7dsZp8M"
      },
      "source": [
        "### <font color=red>Today...</font>\n",
        "\n",
        "In this class, we are going to improve our Mind Reader algorithm so that it can make better predictions instead of making predictions randomly.\n",
        "\n",
        "In this new algorithm, we will perform following tasks:\n",
        "\n",
        "<img src=\"https://curriculum.whitehatjr.com/APT+Asset/APT+C3+images/coin.gif\" />\n",
        "\n",
        "\n",
        "\n",
        "Let's start creating the improved version of Mind Reader algorithm."
      ]
    },
    {
      "cell_type": "markdown",
      "metadata": {
        "id": "PVzucGhM5-M-"
      },
      "source": [
        "---"
      ]
    },
    {
      "cell_type": "markdown",
      "metadata": {
        "id": "T8h_6DdeM8nm"
      },
      "source": [
        "#### Activity 1: Initialise The Variables\n",
        "Let's create four variables: \n",
        "\n",
        "- `count_zero` - to store the count of the number of times a player has entered `0`.\n",
        "    \n",
        "- `count_one` - to store the count of the number of times a player has entered `1`.\n",
        "\n",
        "- `player_score` - to keep the score of a player.\n",
        "\n",
        "- `computer_score` - to keep the score of the computer."
      ]
    },
    {
      "cell_type": "code",
      "metadata": {
        "id": "W4LxntSS4TLQ"
      },
      "source": [
        "# Student Action: Create the 'count_zero', 'count_one', 'player_score' and 'computer_score' variables. Set their initial values equal to 0.\n",
        "count_zero=0\n",
        "count_one=0\n",
        "player_score=0\n",
        "computer_score=0"
      ],
      "execution_count": 1,
      "outputs": []
    },
    {
      "cell_type": "markdown",
      "metadata": {
        "id": "QEV4jQkV4MDR"
      },
      "source": [
        "---"
      ]
    },
    {
      "cell_type": "markdown",
      "metadata": {
        "id": "oA5obgxNw79x"
      },
      "source": [
        "#### Activity 2: Functions^^\n",
        "\n",
        "Now we need to create four functions: \n",
        "\n",
        "- The `prediction()` function to predict `0` or `1`.\n",
        "\n",
        "- The `update_counts()` function to update the `count_zero` and `count_one` values. \n",
        "\n",
        "- The `update_scores()` function to update the `player_score` and `computer_score` values.\n",
        "\n",
        "- The `gameplay()` function to run the game.\n",
        "\n",
        "Unfortunately, we don't have a ready-made function (like the `print()` and `input()` functions) to do this. Hence, we need to create these four functions by ourselves.\n",
        "\n",
        "So before creating these functions, first let's learn the **Python functions** in detail.\n",
        "\n",
        "------------\n",
        "<h3>Python Functions</h3>\n",
        "\n",
        "A function is like a machine which takes some input (not always needed) and gives some output. For example: An ATM machine is a function which takes your debit card and your pin number as inputs and returns the cash as an output.\n",
        "\n",
        "<img src=\"https://curriculum.whitehatjr.com/APT+Asset/APT+C3+images/atm3.gif\"/>\n",
        "\n",
        "\n",
        "\n",
        "\n",
        "To create a user-defined function, we use a keyword called `def` followed by the name of the function, followed by common brackets, followed by the colon `(:)` symbol. \n",
        "\n",
        "The input(s) to the function is/are provided within the common brackets.\n",
        "\n",
        "The syntax for creating a user-defined function is\n",
        "\n",
        "`def function_name(input1, input2, ..., inputN):`\n",
        "\n",
        "**Note**:\n",
        "\n",
        "1. The function attributes must be written in the subsequent lines after leaving two blank spaces between the code cell and the code. To exit the function, remove the blank spaces between the code cell and the code in the subsequent lines.\n",
        "\n",
        "2. The function name must begin with a lowercase letter.\n",
        "\n",
        "\n",
        "\n",
        "\n",
        "**Let us understand different categories of User defined functions.**\n",
        "\n",
        "<img src=\"https://user-images.githubusercontent.com/67689674/102910007-d6d98300-449f-11eb-8b11-30e51f10cb82.PNG\" height=300 width=1200/>\n",
        "\n"
      ]
    },
    {
      "cell_type": "markdown",
      "metadata": {
        "id": "Kj9xLYHxQt0x"
      },
      "source": [
        "<ul><b><h3><font color=red><li>Function which takes input and returns output:</h3></font></b>\n",
        "</li>\n",
        "\n",
        "   Let's create a function which takes  two numbers as inputs and   returns their addition as an output."
      ]
    },
    {
      "cell_type": "code",
      "metadata": {
        "id": "pLGmknOMVy4R"
      },
      "source": [
        "# Teacher Action: Write a function which adds two numbers and returns their addition as an output.\n",
        "def add_numbers(num1,num2):\n",
        "  sum=num1+num2\n",
        "  return sum"
      ],
      "execution_count": 2,
      "outputs": []
    },
    {
      "cell_type": "markdown",
      "metadata": {
        "id": "rkXdZscRgjsA"
      },
      "source": [
        "Here:\n",
        "\n",
        "1. The `add_numbers()` is a function which takes two inputs, `num1` and `num2`. You can provide any name of your choice to the function. However, some of the function names are reserved for the ready-made functions in Python. So, you need to avoid those names for naming a function such as `print(), input(), sum()` etc. \n",
        "\n",
        "2. The `+` operator adds the values stored in the `num1` and `num2` variables. \n",
        "\n",
        "3. The variable `result` stores the sum of the values stored in the `num1` and `num2` variables.\n",
        "\n",
        "4. The `return` keyword returns the output. If you don't write the `return` statement, then this function will only add the numbers but won't give any output.\n",
        "\n",
        "5. While creating a function, make sure that you follow indentation, i.e., after declaring the function, leave two blank spaces between the code cell and the code in the subsequent lines. Otherwise, your code will throw the `IndentationError` at the time of its execution.\n",
        "\n",
        "6. To exit from the function, remove the blank spaces between the code cell and the code in the subsequent lines.\n",
        "\n",
        "<font color=blue>When we run the above code, we do not get anything in the output. This is because, to use a function, you need to **call** the function.</font>\n",
        "\n",
        "**Calling a function:**\n",
        "\n",
        "You can call a function by using function name followed by the inputs in the parenthesis. As `add_number()` function needs two inputs, let's call this function by passing two integers as input. "
      ]
    },
    {
      "cell_type": "code",
      "metadata": {
        "id": "alFwIR7wOxux",
        "colab": {
          "base_uri": "https://localhost:8080/"
        },
        "outputId": "64285d46-01ab-4650-89d2-c8848ec33c71"
      },
      "source": [
        "#  Teacher Action: Call the 'add_numbers()' function and pass two numbers as input.\n",
        "add_numbers(4,7)"
      ],
      "execution_count": 4,
      "outputs": [
        {
          "output_type": "execute_result",
          "data": {
            "text/plain": [
              "11"
            ]
          },
          "metadata": {},
          "execution_count": 4
        }
      ]
    },
    {
      "cell_type": "markdown",
      "metadata": {
        "id": "DDzoZUrp_h1d"
      },
      "source": [
        "<ul><b><h3><font color=red><li>Function which takes input but does not returns any output:</h3></font></b>\n",
        "</li>\n",
        "\n",
        "For some problem statements, a function may take one or more input, but it may not return any output. \n",
        "\n",
        "Let's create a function which takes two numbers as inputs and   stores their sum in a variable, but does not return any output."
      ]
    },
    {
      "cell_type": "code",
      "metadata": {
        "id": "B-gR9h3vO6yG"
      },
      "source": [
        "# Teacher Action: Write a function which adds two numbers but does not returns their addition as an output.\n",
        "def add_numbers(num1,num2):\n",
        " sum=num1+num2\n",
        " \n",
        "add_numbers(5634,87695)"
      ],
      "execution_count": 6,
      "outputs": []
    },
    {
      "cell_type": "markdown",
      "metadata": {
        "id": "8SfsvJSDPMon"
      },
      "source": [
        "<ul><b><h3><font color=red><li>Function which does not take any input but returns output:</h3></font></b>\n",
        "</li>\n",
        "\n",
        "For some problem statements, a function does not take any input, yet it produces the output. \n",
        "\n",
        "Let's create a function which returns `\"WhiteHat Jr\"` whenever you call it."
      ]
    },
    {
      "cell_type": "code",
      "metadata": {
        "id": "N5A0HxDHuQIm",
        "colab": {
          "base_uri": "https://localhost:8080/",
          "height": 35
        },
        "outputId": "89735b05-2caf-42ac-bc93-6e8fb745415a"
      },
      "source": [
        "# Student Action: Create a function and name it \"no_input()\". It should not take any input and should return \"WhiteHat Jr\" as an output.\n",
        "def no_input():\n",
        "  return \"whitehatjr\"\n",
        "\n",
        "no_input() "
      ],
      "execution_count": 8,
      "outputs": [
        {
          "output_type": "execute_result",
          "data": {
            "text/plain": [
              "'whitehatjr'"
            ],
            "application/vnd.google.colaboratory.intrinsic+json": {
              "type": "string"
            }
          },
          "metadata": {},
          "execution_count": 8
        }
      ]
    },
    {
      "cell_type": "markdown",
      "metadata": {
        "id": "k_HyzsvRtpY1"
      },
      "source": [
        "As you can see, we called the `no_input()` function thrice and thrice it returned an output without taking an input.\n",
        "\n",
        "Now we are in the position to create the four functions. Let's start with the `prediction()` function."
      ]
    },
    {
      "cell_type": "markdown",
      "metadata": {
        "id": "CqCzEbrLWWJv"
      },
      "source": [
        "---"
      ]
    },
    {
      "cell_type": "markdown",
      "metadata": {
        "id": "ut_QJ8MgCrit"
      },
      "source": [
        "#### Activity 3: The `prediction()` Function\n",
        "\n",
        "The `prediction()` function should return 0 or 1 as output by comparing the values stored in the `count_zero` and `count_one` variables.\n",
        "\n",
        "<img src=\"https://curriculum.whitehatjr.com/APT+Asset/APT+C3+images/whj-jar-prediction-apt-c3-01.gif\" />\n"
      ]
    },
    {
      "cell_type": "code",
      "metadata": {
        "id": "3qhYChiwG0XG"
      },
      "source": [
        "# Student Action: Create the 'prediction()' function. It should not take any input and should return the prediction value as an output.\n",
        "import random\n",
        "def prediction():\n",
        "  if count_zero>count_one:\n",
        "    predict=0\n",
        "  elif count_one>count_zero:\n",
        "    predict=1\n",
        "  else:\n",
        "    predict=random.randint(0,1)\n",
        "  return predict"
      ],
      "execution_count": 9,
      "outputs": []
    },
    {
      "cell_type": "markdown",
      "metadata": {
        "id": "Dkl9RHcuHfvs"
      },
      "source": [
        "Currently, since both the `count_zero` and `count_one` values are `0` (or equal), the `prediction()` function will return `0` or `1` randomly. Run the above code again and again to observe the function behaviour.\n",
        "\n",
        "Now, let's create the `update_count()` function.\n"
      ]
    },
    {
      "cell_type": "markdown",
      "metadata": {
        "id": "zbiqUd30JH3j"
      },
      "source": [
        "---"
      ]
    },
    {
      "cell_type": "markdown",
      "metadata": {
        "id": "RSRhb-AKHz2l"
      },
      "source": [
        "#### Activity 4: The `update_counts()` Function And The `global` Keyword\n",
        "\n",
        "The `update_counts()` function should update the values stored in the `count_zero` and `count_one` variables based on the player inputs.\n",
        "\n",
        "<img src=\"https://curriculum.whitehatjr.com/APT+Asset/APT+C3+images/WHJ-Jar-Coins-More-C3-01.jpg\"/>\n",
        "\n",
        "The `update_counts()` function should not return anything. It should just update the values stored in the `count_zero` and `count_one` variables.\n",
        "\n",
        "---\n",
        "**NOTE:**\n",
        "\n",
        "- Now we are going to modify the `count_zero` and `count_one` variables using the `update_counts()` function.\n",
        "- But, `count_zero` and `count_one` are global variables.\n",
        "\n",
        "<b><font color=red>What is  meant by global variables?</b></font>\n",
        "\n",
        "\n",
        "<img src=\"https://curriculum.whitehatjr.com/APT+Asset/APT+C3+images/fn5.png\" />\n",
        "\n",
        "- So, `count_zero` and `count_one` are **global variables** as they were already declared outside the `update_counts()` function.\n",
        "- Now, we need to update values of these global variables inside `update_counts()` function. But, you cannot do this directly. \n",
        "- For this, you need to use `global` keyword.\n",
        "\n",
        "Let's try to understand this with the help of an example.\n",
        "\n",
        "\n",
        "**For Example:**\n",
        "\n",
        "<center>\n",
        "<img src=\"https://curriculum.whitehatjr.com/APT+Asset/APT+C3+images/APT+C2-25+%281%29.png\" />\n",
        "\n",
        "</center>\n"
      ]
    },
    {
      "cell_type": "code",
      "metadata": {
        "id": "SzOH8m_2Iyls"
      },
      "source": [
        "# Student Action: Create the 'update_counts' function. It should take 'player_input' variable as input and should not return anything.\n",
        "def update_counts(player_input):\n",
        "  global count_zero,count_one\n",
        "  if player_input==0:\n",
        "    count_zero+=1\n",
        "  else:\n",
        "    count_one+=1"
      ],
      "execution_count": 10,
      "outputs": []
    },
    {
      "cell_type": "markdown",
      "metadata": {
        "id": "Sch4JlDWK5xt"
      },
      "source": [
        "Now let's test the above function by giving `0, 0` and `1` values as the inputs to the `update_counts()` function and printing the values stored in the `count_zero` and `count_one` variables. \n",
        "\n",
        "The output should be `count_zero = 2` and `count_one = 1`"
      ]
    },
    {
      "cell_type": "code",
      "metadata": {
        "id": "8XAlsW5wLKyh"
      },
      "source": [
        "# Student Action: Enter 0, 0 and 1 as inputs to the 'update_counts()' function one-by-one. \n",
        "# Print the values stored in the 'count_zero' and 'count_one' variables.\n"
      ],
      "execution_count": null,
      "outputs": []
    },
    {
      "cell_type": "markdown",
      "metadata": {
        "id": "JzRet-WyMP06"
      },
      "source": [
        "Similarly, let's create the `update_scores()` function."
      ]
    },
    {
      "cell_type": "markdown",
      "metadata": {
        "id": "ig1UGSn1MWy_"
      },
      "source": [
        "---"
      ]
    },
    {
      "cell_type": "markdown",
      "metadata": {
        "id": "z_qOozBHMYz-"
      },
      "source": [
        "#### Activity 5: The `update_scores()` Function^\n",
        "\n",
        "<img src=\"https://curriculum.whitehatjr.com/APT+Asset/APT+C3+images/WHJ-boy-robot-apt-c3-02-01.jpg\" height=550/>\n",
        "\n",
        "\n",
        "\n",
        "\n",
        "The predicted value is obtained from the `prediction()` function. Immediately after updating the scores, the `update_scores()` function must print the updated values stored in the `player_score` and `computer_score` variables.\n",
        "\n",
        "**Note:** To modify the value stored in a variable using a user-defined function, we need to declare that variable with the `global` keyword inside the function.\n",
        "\n",
        "In this case, we are going to modify the `player_score` and `computer_score` values using the `update_scores()` function. Hence, we need to add the `global player_score, computer_score` statement inside the function."
      ]
    },
    {
      "cell_type": "code",
      "metadata": {
        "id": "0kmauZcVVDEK"
      },
      "source": [
        "# Student Action: Create the 'update_scores()' function. It should take the 'predicted' and 'player_input' variables as inputs.\n",
        "# It should update the 'player_score' and 'computer_score' values and should print them. It should not return anything.\n",
        "def update_scores(predicted,player_input):\n",
        "  global player_score,computer_score\n",
        "  if predicted==player_input:\n",
        "    computer_score+=1\n",
        "    print(\"Computer Score:\",computer_score,\"\\nPlayer Score:\",player_score)\n",
        "  else:\n",
        "    player_score+=1\n",
        "    print(\"Computer Score:\",computer_score,\"\\nPlayer Score:\",player_score)"
      ],
      "execution_count": 11,
      "outputs": []
    },
    {
      "cell_type": "markdown",
      "metadata": {
        "id": "akNKltPwWKgA"
      },
      "source": [
        "Let's test the above function by giving `0` as an input to the `update_counts()` and `update_scores()` functions and then printing the values stored in the `player_score` and `computer_scores` variables. \n",
        "\n",
        "Initially, `count_zero` value is the same as the `count_one` value. So, the `prediction()` function will predict `0` or `1` randomly. The `computer_score` value will be equal to `1` if the predicted value is same as the `player_input`, i.e. `0`. Else the `player_score` will be equal to `1`.\n",
        "\n",
        "The second time, if you again give `0` as another input, the `prediction()` function will return `0` as the predicted value because the `count_zero = 2` which is greater than `count_one` value.\n",
        "\n",
        "So, the `computer_score` value should be atleast `1`, i.e. either `1` or `2` after the second input."
      ]
    },
    {
      "cell_type": "code",
      "metadata": {
        "id": "kRXCln3jgpzU"
      },
      "source": [
        "# Student Action: Get the predicted value from the 'prediction()' function and store it in the 'predicted' variable.\n",
        "# Then enter 0 as an input to the 'update_counts()' and 'update_scores()' functions twice.\n",
        "count_zero = 0\n",
        "count_one = 0\n",
        "\n",
        "player_score = 0\n",
        "computer_score = 0\n",
        "\n",
        "# First input.\n",
        "\n",
        "print() # This will add an emtpy line.\n",
        "\n",
        "# Second input.\n"
      ],
      "execution_count": null,
      "outputs": []
    },
    {
      "cell_type": "markdown",
      "metadata": {
        "id": "RNS0iVQ5g6z-"
      },
      "source": [
        "As you can see, after the second input, the `computer_score` value is at-least `1`. Run this code again and again to observe the behaviour.\n",
        "\n",
        "Now, let's create the `gameplay()` function."
      ]
    },
    {
      "cell_type": "markdown",
      "metadata": {
        "id": "SYoZZ9t7ufNC"
      },
      "source": [
        "---"
      ]
    },
    {
      "cell_type": "markdown",
      "metadata": {
        "id": "vXBQ-FmRhgAh"
      },
      "source": [
        "#### Activity 6: The `gameplay()` Function^^^\n",
        "\n",
        "\n",
        "<img src=\"https://curriculum.whitehatjr.com/APT+Asset/APT+C3+images/whj-jar-player-apt-c3-03-01.jpg\"/>\n"
      ]
    },
    {
      "cell_type": "code",
      "metadata": {
        "id": "_Ih-2w4qj-cq"
      },
      "source": [
        "# Student Action: Create the 'gameplay()' function.\n",
        "def gameplay():\n",
        "  valid_entries = ['0', '1']\n",
        "  while True:\n",
        "    # Get the predicted value and store it in the 'predicted' variable.\n",
        "    predicted=prediction()\n",
        "    # Take input from the player and store it in the 'player_input' variable.\n",
        "    # Print \"Enter either 0 or 1: \" while taking the input.\n",
        "    player_input=input(\"Enter either 0 or 1: \")\n",
        "    \n",
        "    while player_input not in valid_entries:\n",
        "      print(\"Invalid Input!\")\n",
        "      player_input = input(\"Please enter either 0 or 1: \")\n",
        "    \n",
        "    # Convert the 'player_input' value to an integer value.\n",
        "    player_input=int(player_input)\n",
        "    # Update the 'count_zero' and 'count_one' values using the 'update_counts()' function.\n",
        "    update_counts(player_input)\n",
        "    # Update the 'player_score' and 'computer_score' values using the 'update_scores()' function.\n",
        "    update_scores(predicted,player_input)"
      ],
      "execution_count": 12,
      "outputs": []
    },
    {
      "cell_type": "markdown",
      "metadata": {
        "id": "SCNwvrfbkFNq"
      },
      "source": [
        "Now, test the game by putting everything together in one place."
      ]
    },
    {
      "cell_type": "markdown",
      "metadata": {
        "id": "0Zt0_-Wbkh5T"
      },
      "source": [
        "---"
      ]
    },
    {
      "cell_type": "markdown",
      "metadata": {
        "id": "APuw2qqzkWDz"
      },
      "source": [
        "#### Activity 7: Running The Game\n",
        "\n",
        "Let's run the game using the `gameplay()` function. We will run this game only until either the computer or the player has reached a score of `10`. Otherwise, the testing will take a very long time. \n",
        "\n",
        "You can replace `10` with `50` after testing the game."
      ]
    },
    {
      "cell_type": "code",
      "metadata": {
        "id": "QzObGx2Etry5",
        "colab": {
          "base_uri": "https://localhost:8080/"
        },
        "outputId": "1acb255e-8547-4956-ca8b-723ce89b4cf0"
      },
      "source": [
        "# Student Action: Run the game by calling the 'gameplay()' function at the end of the code cell.\n",
        "import random\n",
        "\n",
        "count_zero = 0\n",
        "count_one = 0\n",
        "\n",
        "player_score = 0\n",
        "computer_score = 0\n",
        "\n",
        "def prediction():\n",
        "  if count_zero > count_one:\n",
        "    predict = 0\n",
        "  elif count_one > count_zero:\n",
        "    predict = 1\n",
        "  else:\n",
        "    predict = random.randint(0, 1)\n",
        "  \n",
        "  return predict\n",
        "\n",
        "def update_counts(player_input):\n",
        "  global count_zero, count_one\n",
        "  if player_input == 0:\n",
        "    count_zero = count_zero + 1\n",
        "  else:\n",
        "    count_one = count_one + 1\n",
        "\n",
        "def update_scores(predicted, player_input):\n",
        "  global player_score, computer_score\n",
        "  if predicted == player_input:\n",
        "    computer_score = computer_score + 1\n",
        "    print(\"Computer Score:\", computer_score)\n",
        "    print(\"Player Score:\", player_score)\n",
        "  else:\n",
        "    player_score = player_score + 1\n",
        "    print(\"Computer Score:\", computer_score)\n",
        "    print(\"Player Score:\", player_score)\n",
        "\n",
        "def gameplay():\n",
        "  valid_entries = ['0', '1']\n",
        "  while True:\n",
        "    # Get the predicted value and stored it in the 'predicted' variable.\n",
        "    predicted = prediction()\n",
        "    # Take input from the player and store it in the 'player_input' variable.\n",
        "    player_input = input(\"Enter either 0 or 1: \")\n",
        "    while player_input not in valid_entries:\n",
        "      print(\"Invalid Input!\")\n",
        "      player_input = input(\"Please enter either 0 or 1: \")\n",
        "    \n",
        "    # Convert the 'player_input' value to an integer value.\n",
        "    player_input = int(player_input)\n",
        "\n",
        "    # Update the 'count_zero' and 'count_one' values using the 'update_counts()' function.\n",
        "    update_counts(player_input)\n",
        "\n",
        "    # Update the 'player_score' and 'computer_score' values using the 'update_scores()' function.\n",
        "    update_scores(predicted, player_input)\n",
        "\n",
        "    if player_score == 10:\n",
        "      print(\"Congrats, You Won!\")\n",
        "      break\n",
        "    elif computer_score == 10:\n",
        "      print(\"Bad Luck, You Lost!\")\n",
        "      break\n",
        "\n",
        "# Call the 'gameplay()' function to run the game.\n",
        "gameplay()"
      ],
      "execution_count": 13,
      "outputs": [
        {
          "output_type": "stream",
          "name": "stdout",
          "text": [
            "Enter either 0 or 1: 1\n",
            "Computer Score: 0\n",
            "Player Score: 1\n",
            "Enter either 0 or 1: 1\n",
            "Computer Score: 1\n",
            "Player Score: 1\n",
            "Enter either 0 or 1: 1\n",
            "Computer Score: 2\n",
            "Player Score: 1\n",
            "Enter either 0 or 1: 1\n",
            "Computer Score: 3\n",
            "Player Score: 1\n",
            "Enter either 0 or 1: 0\n",
            "Computer Score: 3\n",
            "Player Score: 2\n",
            "Enter either 0 or 1: 1\n",
            "Computer Score: 4\n",
            "Player Score: 2\n",
            "Enter either 0 or 1: 0\n",
            "Computer Score: 4\n",
            "Player Score: 3\n",
            "Enter either 0 or 1: 0\n",
            "Computer Score: 4\n",
            "Player Score: 4\n",
            "Enter either 0 or 1: 1\n",
            "Computer Score: 5\n",
            "Player Score: 4\n",
            "Enter either 0 or 1: 0\n",
            "Computer Score: 5\n",
            "Player Score: 5\n",
            "Enter either 0 or 1: 2\n",
            "Invalid Input!\n",
            "Please enter either 0 or 1: 0\n",
            "Computer Score: 5\n",
            "Player Score: 6\n",
            "Enter either 0 or 1: 1\n",
            "Computer Score: 6\n",
            "Player Score: 6\n",
            "Enter either 0 or 1: 0\n",
            "Computer Score: 6\n",
            "Player Score: 7\n",
            "Enter either 0 or 1: 1\n",
            "Computer Score: 7\n",
            "Player Score: 7\n",
            "Enter either 0 or 1: 0\n",
            "Computer Score: 7\n",
            "Player Score: 8\n",
            "Enter either 0 or 1: 0\n",
            "Computer Score: 7\n",
            "Player Score: 9\n",
            "Enter either 0 or 1: 1\n",
            "Computer Score: 8\n",
            "Player Score: 9\n",
            "Enter either 0 or 1: 0\n",
            "Computer Score: 8\n",
            "Player Score: 10\n",
            "Congrats, You Won!\n"
          ]
        }
      ]
    },
    {
      "cell_type": "markdown",
      "metadata": {
        "id": "apcHWj3NvWUf"
      },
      "source": [
        "---"
      ]
    },
    {
      "cell_type": "markdown",
      "metadata": {
        "id": "JuZAvxlECH34"
      },
      "source": [
        "### Wrap-Up Quiz\n",
        "\n",
        "\n",
        "<img src=\"https://curriculum.whitehatjr.com/APT+Asset/APT+C3+images/Q1.PNG\"/>\n",
        "\n",
        "---\n",
        "\n",
        "<img src=\"https://curriculum.whitehatjr.com/APT+Asset/APT+C3+images/Q2.PNG\"/>\n",
        "\n",
        "---\n",
        "\n",
        "<img src=\"https://curriculum.whitehatjr.com/APT+Asset/APT+C3+images/Q3.PNG\"/>\n",
        "\n",
        "\n",
        "\n"
      ]
    },
    {
      "cell_type": "code",
      "source": [
        "def display():\n",
        "  print(\"Python is awesome\")\n",
        "\n",
        "display()"
      ],
      "metadata": {
        "colab": {
          "base_uri": "https://localhost:8080/"
        },
        "id": "RMuBQMpFi7hm",
        "outputId": "7dc4a7b9-5eb7-42ef-ed1e-2b91727b6b92"
      },
      "execution_count": 15,
      "outputs": [
        {
          "output_type": "stream",
          "name": "stdout",
          "text": [
            "Python is awesome\n"
          ]
        }
      ]
    },
    {
      "cell_type": "markdown",
      "metadata": {
        "id": "dsKXHLxyCJTn"
      },
      "source": [
        "---"
      ]
    },
    {
      "cell_type": "markdown",
      "metadata": {
        "id": "EwKOziD4gMA2"
      },
      "source": [
        "### **Project**\n",
        "\n",
        "You can now attempt the **Applied Tech. Project 3 - Functions** on your own.\n",
        "\n",
        "\n",
        "**Applied Tech. Project 3 - Functions**: https://colab.research.google.com/drive/1qaEa3FobEJKvDKnxPxWoFzd267ZjJmQd"
      ]
    },
    {
      "cell_type": "markdown",
      "metadata": {
        "id": "D1nS1_4AgLbw"
      },
      "source": [
        "---"
      ]
    }
  ]
}